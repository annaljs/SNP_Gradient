{
 "cells": [
  {
   "cell_type": "code",
   "execution_count": 69,
   "metadata": {},
   "outputs": [
    {
     "name": "stdout",
     "output_type": "stream",
     "text": [
      "Input image includes alpha channel, simply dropout alpha channel.\n"
     ]
    }
   ],
   "source": [
    "import numpy as np\n",
    "import PIL\n",
    "import PIL.Image\n",
    "import torch\n",
    "\n",
    "\n",
    "use_gpu = torch.cuda.is_available()\n",
    "device = torch.device('cuda') if use_gpu else torch.device('cpu')\n",
    "\n",
    "gt = np.array(PIL.Image.open(\"experiment/sunflowers_final.png\"))\n",
    "\n",
    "if gt.shape[2] == 4:\n",
    "    print(\"Input image includes alpha channel, simply dropout alpha channel.\")\n",
    "    gt = gt[:, :, :3]\n",
    "\n",
    "gt = (gt/255).astype(np.float32)\n",
    "gt = torch.FloatTensor(gt).permute(2, 0, 1)[None].to(device)"
   ]
  },
  {
   "cell_type": "code",
   "execution_count": 72,
   "metadata": {},
   "outputs": [],
   "source": [
    "test = np.array(PIL.Image.open(\"/home/anna/LIVE-Layerwise-Image-Vectorization/LIVE/experiment/merged_opacity_v2.png\"))\n",
    "\n",
    "if test.shape[2] == 4:\n",
    "    print(\"Input image includes alpha channel, simply dropout alpha channel.\")\n",
    "    test = test[:, :, :3]\n",
    "\n",
    "test = (test/255).astype(np.float32)\n",
    "test = torch.FloatTensor(test).permute(2, 0, 1)[None].to(device)"
   ]
  },
  {
   "cell_type": "code",
   "execution_count": 73,
   "metadata": {},
   "outputs": [
    {
     "name": "stdout",
     "output_type": "stream",
     "text": [
      "0.04385620\n"
     ]
    }
   ],
   "source": [
    "loss = ((test-gt)**2)\n",
    "loss = loss.sum(1).mean()\n",
    "print(\"{:.8f}\".format(loss))"
   ]
  }
 ],
 "metadata": {
  "kernelspec": {
   "display_name": "live",
   "language": "python",
   "name": "python3"
  },
  "language_info": {
   "codemirror_mode": {
    "name": "ipython",
    "version": 3
   },
   "file_extension": ".py",
   "mimetype": "text/x-python",
   "name": "python",
   "nbconvert_exporter": "python",
   "pygments_lexer": "ipython3",
   "version": "3.7.16"
  },
  "orig_nbformat": 4
 },
 "nbformat": 4,
 "nbformat_minor": 2
}
