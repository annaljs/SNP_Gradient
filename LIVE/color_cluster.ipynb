{
 "cells": [
  {
   "cell_type": "code",
   "execution_count": 95,
   "metadata": {},
   "outputs": [],
   "source": [
    "import matplotlib.pyplot as plt\n",
    "from sklearn.cluster import KMeans\n",
    "from sklearn.metrics import silhouette_score\n",
    "import cv2\n",
    "import numpy as np\n",
    "import PIL\n",
    "import PIL.Image\n",
    "import json"
   ]
  },
  {
   "cell_type": "code",
   "execution_count": 2,
   "metadata": {},
   "outputs": [],
   "source": [
    "def centroid_histogram(clt):\n",
    "\t# grab the number of different clusters and create a histogram\n",
    "\t# based on the number of pixels assigned to each cluster\n",
    "\tnumLabels = np.arange(0, len(np.unique(clt.labels_)) + 1)\n",
    "\t(hist, _) = np.histogram(clt.labels_, bins = numLabels)\n",
    "\t# normalize the histogram, such that it sums to one\n",
    "\thist = hist.astype(\"float\")\n",
    "\thist /= hist.sum()\n",
    "\t# return the histogram\n",
    "\treturn hist"
   ]
  },
  {
   "cell_type": "code",
   "execution_count": 3,
   "metadata": {},
   "outputs": [],
   "source": [
    "def plot_colors(hist, centroids):\n",
    "\t# initialize the bar chart representing the relative frequency\n",
    "\t# of each of the colors\n",
    "\tbar = np.zeros((50, 300, 3), dtype = \"uint8\")\n",
    "\tstartX = 0\n",
    "\t# loop over the percentage of each cluster and the color of\n",
    "\t# each cluster\n",
    "\tfor (percent, color) in zip(hist, centroids):\n",
    "\t\t# plot the relative percentage of each cluster\n",
    "\t\tendX = startX + (percent * 300)\n",
    "\t\tcv2.rectangle(bar, (int(startX), 0), (int(endX), 50),\n",
    "\t\t\tcolor.astype(\"uint8\").tolist(), -1)\n",
    "\t\tstartX = endX\n",
    "\t\tprint(color)\n",
    "\t# return the bar chart\n",
    "\treturn bar"
   ]
  },
  {
   "cell_type": "code",
   "execution_count": 98,
   "metadata": {},
   "outputs": [],
   "source": [
    "def find_color_locaiton(image,color_mask) : \n",
    "    _, component, cstats, ccenter = cv2.connectedComponentsWithStats(\n",
    "    (color_mask==1).astype(np.uint8), connectivity=4)\n",
    "    csize = [ci[-1] for ci in cstats[1:]]\n",
    "    target_cid = csize.index(max(csize))+1\n",
    "    center = ccenter[target_cid][::-1]\n",
    "    coord = np.stack(np.where(component == target_cid)).T\n",
    "    dist = np.linalg.norm(coord-center, axis=1)\n",
    "    target_coord_id = np.argmin(dist)\n",
    "    coord_h, coord_w = coord[target_coord_id]\n",
    "    rgb=image[coord_h][coord_w]\n",
    "    print(coord_w, coord_h, rgb)\n",
    "    return coord_w, coord_h, rgb"
   ]
  },
  {
   "cell_type": "code",
   "execution_count": null,
   "metadata": {},
   "outputs": [],
   "source": [
    "file_direct = \"data/single_strokes/single_strokes_495/sunflowers_rendered_single_stroke_\"\n",
    "stroke_cluster = []\n",
    "for stroke_num in range(1, 496) :\n",
    "    data = []\n",
    "    stroke_name = \"\"\n",
    "    num = str(stroke_num)\n",
    "    num_of_zeros = 4 - len(num)\n",
    "    for i in range(num_of_zeros) :\n",
    "        stroke_name += '0'\n",
    "    stroke_name += num\n",
    "    filname = file_direct +  stroke_name + \".png\"\n",
    "    image = np.array(PIL.Image.open(filname))\n",
    "    tmp_image = image\n",
    "\n",
    "    if image.shape[2] == 4:\n",
    "        print(\"Input image includes alpha channel, simply dropout alpha channel.\")\n",
    "        image = image[:, :, :3]\n",
    "    tmp_image = cv2.resize(image, ( int(image.shape[0]/2), int(image.shape[1]/2) ))\n",
    "    zero_mask = (tmp_image == [255, 255, 255]).all(axis=2)\n",
    "    tmp_image = tmp_image[zero_mask==0]\n",
    "    # print(tmp_image.shape)\n",
    "\n",
    "    clt = KMeans(n_clusters = 2)\n",
    "    clt.fit(tmp_image)\n",
    "    # silhouette_avg = []\n",
    "    # best_silhouette = -1.0\n",
    "    # best_cluster = 1\n",
    "    # for i in range(2,4):\n",
    "    #     clt = KMeans(n_clusters = i)\n",
    "    #     clt.fit(tmp_image)\n",
    "    #     silhouette = silhouette_score(tmp_image, clt.labels_)\n",
    "    #     silhouette_avg.append(silhouette)\n",
    "    #     if silhouette > best_silhouette :\n",
    "    #         best_cluster = i\n",
    "    #         best_silhouette = silhouette\n",
    "    # plt.plot(range(2,4), silhouette_avg)\n",
    "    # print(best_cluster)\n",
    "    # clt = KMeans(n_clusters = best_cluster)\n",
    "    # clt.fit(tmp_image)\n",
    "    \n",
    "    centers = clt.cluster_centers_.astype(int)\n",
    "    color_list = []\n",
    "    for center in centers:\n",
    "    # 將中心點位置轉換為原始圖片大小\n",
    "        center = center * 2\n",
    "        # 找到最接近的像素位置\n",
    "        r = int(round(center[0] / 2))\n",
    "        g = int(round(center[1] / 2))\n",
    "        b = int(round(center[2] / 2))\n",
    "        color_list.append((r,g,b))\n",
    "    # print(color_list)\n",
    "\n",
    "    for color in color_list :\n",
    "\n",
    "        color_mask =  np.zeros((image.shape[0], image.shape[1]))\n",
    "        r = color[0]\n",
    "        g = color[1]\n",
    "        b = color[2]\n",
    "\n",
    "        for w in range(image.shape[0]):\n",
    "            for h in range(image.shape[1]):\n",
    "                if r-10 <= image[w][h][0]  <= r+10 :\n",
    "                    if g-10 <= image[w][h][1]  <= g+10 :\n",
    "                        if b-10 <= image[w][h][2]  <= b+10 :\n",
    "                            color_mask[w][h] = 1\n",
    "        #print(len(color_mask[color_mask==1]))\n",
    "        if len(color_mask[color_mask==1]) > 0 :\n",
    "            coord_w, coord_h, rgb = find_color_locaiton(image,color_mask)\n",
    "            # print(type(coord_w))\n",
    "            data.append({'coord': [coord_w.tolist(), coord_h.tolist()] ,'color_rgb': rgb.tolist()})      \n",
    "    stroke_cluster.append(data)\n",
    "with open('pixels.json', 'w') as f:\n",
    "    json.dump(stroke_cluster, f,indent=4)"
   ]
  },
  {
   "cell_type": "code",
   "execution_count": 164,
   "metadata": {},
   "outputs": [
    {
     "name": "stdout",
     "output_type": "stream",
     "text": [
      "[242.28888889 239.6         52.44444444]\n",
      "[249.125  248.1875 173.875 ]\n"
     ]
    },
    {
     "data": {
      "image/png": "[encoded data removed]",
      "text/plain": [
       "<Figure size 640x480 with 1 Axes>"
      ]
     },
     "metadata": {},
     "output_type": "display_data"
    }
   ],
   "source": [
    "# build a histogram of clusters and then create a figure\n",
    "# representing the number of pixels labeled to each color\n",
    "hist = centroid_histogram(clt)\n",
    "bar = plot_colors(hist, clt.cluster_centers_)\n",
    "# show our color bart\n",
    "plt.figure()\n",
    "plt.axis(\"off\")\n",
    "plt.imshow(bar)\n",
    "plt.show()"
   ]
  },
  {
   "cell_type": "code",
   "execution_count": 165,
   "metadata": {},
   "outputs": [
    {
     "name": "stdout",
     "output_type": "stream",
     "text": [
      "[(242, 239, 52), (249, 248, 173)]\n"
     ]
    }
   ],
   "source": [
    "centers = clt.cluster_centers_.astype(int)\n",
    "locations = []\n",
    "for center in centers:\n",
    "    # 將中心點位置轉換為原始圖片大小\n",
    "    center = center * 2\n",
    "    # 找到最接近的像素位置\n",
    "    r = int(round(center[0] / 2))\n",
    "    g = int(round(center[1] / 2))\n",
    "    b = int(round(center[2] / 2))\n",
    "    locations.append((r,g,b))\n",
    "\n",
    "# 輸出每個中心點在圖片中的位置\n",
    "print(locations)"
   ]
  },
  {
   "cell_type": "code",
   "execution_count": null,
   "metadata": {},
   "outputs": [],
   "source": [
    "rgb=[249, 248, 173]\n",
    "image = np.array(PIL.Image.open(filname))\n",
    "image = image[:,:,:3]\n",
    "matches = []\n",
    "m =  np.zeros((image.shape[0], image.shape[1]))\n",
    "r = rgb[0]\n",
    "g = rgb[1]\n",
    "b = rgb[2]\n",
    "for i in range(image.shape[0]):\n",
    "    for j in range(image.shape[1]):\n",
    "        print(image[i][j])\n",
    "        if r-5 <= image[i][j][0]  <= r+5 :\n",
    "            if g-5 <= image[i][j][1]  <= g+5 :\n",
    "                if b-5 <= image[i][j][2]  <= b+5 :\n",
    "                    m[i][j] = 1\n",
    "        # if np.all(image[i][j] == rgb):\n",
    "        #      matches.append((i, j))\n",
    "print(len(m[m==1]))\n",
    "\n",
    "#m = (image == rgb).all(axis=2)"
   ]
  },
  {
   "cell_type": "code",
   "execution_count": null,
   "metadata": {},
   "outputs": [],
   "source": [
    "fig, ax = plt.subplots()\n",
    "ax.imshow(image, cmap='gray')\n",
    "for i in range(1, _):\n",
    "    # 获取当前连通组件的外接矩形框信息\n",
    "    x, y, w, h, area = cstats[i]\n",
    "    print(area)\n",
    "    rect = plt.Rectangle((x, y), w, h, linewidth=1, edgecolor='r', facecolor='none')\n",
    "    ax.add_patch(rect)\n",
    "\n",
    "plt.show()"
   ]
  },
  {
   "cell_type": "code",
   "execution_count": 67,
   "metadata": {},
   "outputs": [
    {
     "name": "stdout",
     "output_type": "stream",
     "text": [
      "Direction 0.0 appears 258516 times.\n",
      "Direction 45.0 appears 300 times.\n",
      "Direction 90.0 appears 338 times.\n",
      "Direction 135.0 appears 692 times.\n",
      "Direction 180.0 appears 829 times.\n",
      "Direction 225.0 appears 312 times.\n",
      "Direction 270.0 appears 367 times.\n",
      "Direction 315.0 appears 790 times.\n"
     ]
    }
   ],
   "source": [
    "image = np.array(PIL.Image.open(filname))\n",
    "img = image[:,:,:3]\n",
    "\n",
    "gray = cv2.cvtColor(img, cv2.COLOR_BGR2GRAY)\n",
    "sobelx = cv2.Sobel(gray, cv2.CV_64F, 1, 0, ksize=3)\n",
    "sobely = cv2.Sobel(gray, cv2.CV_64F, 0, 1, ksize=3)\n",
    "\n",
    "# 計算梯度幅值和方向\n",
    "grad_dir = cv2.phase(sobelx, sobely, angleInDegrees=True)\n",
    "quantized_dir = np.zeros_like(grad_dir)\n",
    "for i in range(0, grad_dir.shape[0]):\n",
    "    for j in range(0, grad_dir.shape[1]):\n",
    "        quantized_dir[i][j] = int(grad_dir[i][j] / 45.0) * 45.0\n",
    "unique, counts = np.unique(quantized_dir, return_counts=True)\n",
    "\n",
    "# 打印结果\n",
    "for i in range(len(unique)):\n",
    "    print('Direction', unique[i], 'appears', counts[i], 'times.')\n"
   ]
  }
 ],
 "metadata": {
  "kernelspec": {
   "display_name": "live",
   "language": "python",
   "name": "python3"
  },
  "language_info": {
   "codemirror_mode": {
    "name": "ipython",
    "version": 3
   },
   "file_extension": ".py",
   "mimetype": "text/x-python",
   "name": "python",
   "nbconvert_exporter": "python",
   "pygments_lexer": "ipython3",
   "version": "3.7.16"
  },
  "orig_nbformat": 4
 },
 "nbformat": 4,
 "nbformat_minor": 2
}
